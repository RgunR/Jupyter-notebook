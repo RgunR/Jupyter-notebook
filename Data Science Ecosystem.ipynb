{
 "cells": [
  {
   "cell_type": "markdown",
   "id": "cab2ad77",
   "metadata": {},
   "source": [
    "# Data Science Tools and Ecosystems"
   ]
  },
  {
   "cell_type": "markdown",
   "id": "f7ef0d0b",
   "metadata": {},
   "source": [
    "## In this notebook, Data Science Tools and Ecosystems are summarized."
   ]
  },
  {
   "cell_type": "markdown",
   "id": "d54eb364",
   "metadata": {},
   "source": [
    "### Some of the popular languages are:\n",
    "\n",
    "1. Python\n",
    "2. R \n",
    "3. SQL\n",
    "4. Scala \n",
    "5. Julia \n",
    "6. Java\n",
    "7. C++"
   ]
  },
  {
   "cell_type": "markdown",
   "id": "2e5bb846",
   "metadata": {},
   "source": [
    " ## Objectives:\n",
    "\n",
    "+ Libraries used by Data Scientist\n",
    "+ Tools used by Data Scientist\n",
    "+ Arithmetic Operation usin Python"
   ]
  },
  {
   "cell_type": "markdown",
   "id": "a10a00ea",
   "metadata": {},
   "source": [
    "### Some of the commomly used libraries used by Data Scientist include:\n",
    "1. Pandas\n",
    "2. Matplotlib\n",
    "3. Scikit-learn\n",
    "4. Numpy\n",
    "5. Seaborn\n",
    "6. Keras \n",
    "7. Tensorflow\n",
    "8. ggplot2"
   ]
  },
  {
   "cell_type": "markdown",
   "id": "0ad6acba",
   "metadata": {},
   "source": [
    "### Some of the tools used by the Data Scientist include:\n",
    "\n",
    "|Data Management Tools|Data Integration Tools|Data Visualization Tools|\n",
    "|-------|------|------|\n",
    "|My SQL | Apache Airflow| Tableau |\n",
    "|MongoDB |Apache Kafka | PowerBI |\n",
    "|Apache Hadoop |Talend| Cognos Analytics|"
   ]
  },
  {
   "cell_type": "markdown",
   "id": "452e76f0",
   "metadata": {},
   "source": [
    "### Below are the few examples of evaluating arithmetic expressions in Python"
   ]
  },
  {
   "cell_type": "code",
   "execution_count": 2,
   "id": "8ca0c8c8",
   "metadata": {},
   "outputs": [
    {
     "data": {
      "text/plain": [
       "17"
      ]
     },
     "execution_count": 2,
     "metadata": {},
     "output_type": "execute_result"
    }
   ],
   "source": [
    "# This a simple arithmetic expression to mutiply then add integers\n",
    "(3*4)+5"
   ]
  },
  {
   "cell_type": "code",
   "execution_count": 3,
   "id": "9dae33d3",
   "metadata": {},
   "outputs": [
    {
     "data": {
      "text/plain": [
       "3"
      ]
     },
     "execution_count": 3,
     "metadata": {},
     "output_type": "execute_result"
    }
   ],
   "source": [
    "# This will convert 200 minutes to hours by dividing by 60.\n",
    "200//60"
   ]
  },
  {
   "cell_type": "markdown",
   "id": "c0fe0ffa",
   "metadata": {},
   "source": [
    "## Author\n",
    "\n",
    "Rishita Sharma"
   ]
  },
  {
   "cell_type": "code",
   "execution_count": null,
   "id": "03336f95",
   "metadata": {},
   "outputs": [],
   "source": []
  }
 ],
 "metadata": {
  "kernelspec": {
   "display_name": "Python 3 (ipykernel)",
   "language": "python",
   "name": "python3"
  },
  "language_info": {
   "codemirror_mode": {
    "name": "ipython",
    "version": 3
   },
   "file_extension": ".py",
   "mimetype": "text/x-python",
   "name": "python",
   "nbconvert_exporter": "python",
   "pygments_lexer": "ipython3",
   "version": "3.10.9"
  }
 },
 "nbformat": 4,
 "nbformat_minor": 5
}
